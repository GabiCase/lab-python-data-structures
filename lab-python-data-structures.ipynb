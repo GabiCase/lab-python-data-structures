{
  "cells": [
    {
      "cell_type": "markdown",
      "metadata": {
        "id": "SHzNWSSO1rHe",
        "tags": []
      },
      "source": [
        "# Lab | Data Structures"
      ]
    },
    {
      "cell_type": "markdown",
      "metadata": {
        "id": "lbJhguru1rHf"
      },
      "source": [
        "## Exercise: Managing Customer Orders\n",
        "\n",
        "As part of a business venture, you are starting an online store that sells various products. To ensure smooth operations, you need to develop a program that manages customer orders and inventory.\n",
        "\n",
        "Follow the steps below to complete the exercise:\n"
      ]
    },
    {
      "cell_type": "markdown",
      "metadata": {
        "id": "W9iAyq9m1rHg"
      },
      "source": [
        "1. Define a list called `products` that contains the following items: \"t-shirt\", \"mug\", \"hat\", \"book\", \"keychain\".\n"
      ]
    },
    {
      "cell_type": "code",
      "execution_count": 2,
      "metadata": {
        "id": "oKSBLt_l1rHg"
      },
      "outputs": [],
      "source": [
        "products = [\"t-shirt\", \"mug\", \"hat\", \"book\", \"keychain\"]"
      ]
    },
    {
      "cell_type": "markdown",
      "metadata": {
        "id": "LLdfMoia1rHi"
      },
      "source": [
        "2. Create an empty dictionary called `inventory`.\n"
      ]
    },
    {
      "cell_type": "code",
      "execution_count": 3,
      "metadata": {
        "id": "bdkRm09F1rHi"
      },
      "outputs": [],
      "source": [
        "inventory = {}"
      ]
    },
    {
      "cell_type": "markdown",
      "metadata": {
        "id": "x-zY0tR21rHj"
      },
      "source": [
        "\n",
        "3. Ask the user to input the quantity of each product available in the inventory. Use the product names from the `products` list as keys in the `inventory` dictionary and assign the respective quantities as values."
      ]
    },
    {
      "cell_type": "code",
      "execution_count": 4,
      "metadata": {
        "colab": {
          "base_uri": "https://localhost:8080/"
        },
        "id": "w6JBeYPP1rHj",
        "outputId": "b29d2645-095e-4187-d008-af4c8f00f650"
      },
      "outputs": [
        {
          "name": "stdout",
          "output_type": "stream",
          "text": [
            "How many t-shirts do you have? 3\n",
            "How many mugs do you have? 6\n",
            "How many hats do you have? 4\n",
            "How many books do you have? 6\n",
            "How many keychains do you have? 4\n"
          ]
        }
      ],
      "source": [
        "for product in products:\n",
        "    inventory[product] = int(input(f\"How many {product}s do you have? \"))"
      ]
    },
    {
      "cell_type": "code",
      "execution_count": 5,
      "metadata": {
        "colab": {
          "base_uri": "https://localhost:8080/"
        },
        "id": "wXnJMXTd1_6q",
        "outputId": "e1e6bd4d-5408-4329-85b7-4650ca181a4f"
      },
      "outputs": [
        {
          "data": {
            "text/plain": [
              "{'t-shirt': 3, 'mug': 6, 'hat': 4, 'book': 6, 'keychain': 4}"
            ]
          },
          "execution_count": 5,
          "metadata": {},
          "output_type": "execute_result"
        }
      ],
      "source": [
        "inventory"
      ]
    },
    {
      "cell_type": "markdown",
      "metadata": {
        "id": "Du7aAE3j2nQb"
      },
      "source": [
        "\n",
        "\n",
        "4. Create an empty set called `customer_orders`.[texto del enlace](https://)"
      ]
    },
    {
      "cell_type": "code",
      "execution_count": 6,
      "metadata": {
        "id": "ynh1J4z92s-0"
      },
      "outputs": [],
      "source": [
        "customer_orders=set()"
      ]
    },
    {
      "cell_type": "markdown",
      "metadata": {
        "id": "aSZnPPbp3Aws"
      },
      "source": [
        "\n",
        "5. Ask the user to input the name of three products that a customer wants to order (from those in the products list, meaning three products out of \"t-shirt\", \"mug\", \"hat\", \"book\" or \"keychain\". Add each product name to the `customer_orders` set."
      ]
    },
    {
      "cell_type": "code",
      "execution_count": 7,
      "metadata": {
        "colab": {
          "base_uri": "https://localhost:8080/"
        },
        "id": "WV6R5sMO3St6",
        "outputId": "9be84010-c681-4ce2-db64-475a0184a090"
      },
      "outputs": [
        {
          "name": "stdout",
          "output_type": "stream",
          "text": [
            "Choose a product: book\n",
            "Choose a product: mug\n",
            "Choose a product: hat\n"
          ]
        }
      ],
      "source": [
        "i=0\n",
        "while i <3:\n",
        "\n",
        "  product = input(\"Choose a product: \")\n",
        "\n",
        "  if product in inventory:\n",
        "    customer_orders.add(product)\n",
        "    i+=1\n",
        "  else:\n",
        "    print(f\"Please choose from these: t-shirt, mug, hat, book, keychain\")\n"
      ]
    },
    {
      "cell_type": "markdown",
      "metadata": {
        "id": "ujyiPXtV5RNo"
      },
      "source": [
        "6. Print the products in the `customer_orders` set."
      ]
    },
    {
      "cell_type": "code",
      "execution_count": 8,
      "metadata": {
        "colab": {
          "base_uri": "https://localhost:8080/"
        },
        "id": "PWYfBL535Bbu",
        "outputId": "2feb0938-52a6-4f25-ac35-cf7e78a102f3"
      },
      "outputs": [
        {
          "data": {
            "text/plain": [
              "{'book', 'hat', 'mug'}"
            ]
          },
          "execution_count": 8,
          "metadata": {},
          "output_type": "execute_result"
        }
      ],
      "source": [
        "customer_orders"
      ]
    },
    {
      "cell_type": "markdown",
      "metadata": {
        "id": "CZ-oZ_CM5W0M"
      },
      "source": [
        "\n",
        "7. Calculate the following order statistics:\n",
        "   - Total Products Ordered: The total number of products in the `customer_orders` set.\n",
        "   - Percentage of Products Ordered: The percentage of products ordered compared to the total available products.\n",
        "   \n",
        "   Store these statistics in a tuple called `order_status`."
      ]
    },
    {
      "cell_type": "code",
      "execution_count": 24,
      "metadata": {
        "colab": {
          "base_uri": "https://localhost:8080/"
        },
        "id": "xcnEdmRM5Vnw",
        "outputId": "c15ba67b-93f4-4b95-d392-dffbbf02d16a"
      },
      "outputs": [
        {
          "name": "stdout",
          "output_type": "stream",
          "text": [
            "the percentage left of books is 83%\n",
            "the percentage left of mugs is 83%\n",
            "the percentage left of hats is 75%\n",
            "13% of products have been bought\n"
          ]
        }
      ],
      "source": [
        "order_status=()\n",
        "order_status_list=[]\n",
        "\n",
        "total_products_ordered = len(customer_orders)\n",
        "\n",
        "all_total = sum(inventory.values())\n",
        "\n",
        "for product in customer_orders:\n",
        "  percentage = - int(100/inventory[product]-100)\n",
        "  print(f\"the percentage left of {product}s is {percentage}%\")\n",
        "\n",
        "percentage_products_ordered = int(total_products_ordered/all_total*100)\n",
        "\n",
        "print(f\"{percentage_products_ordered}% of products have been bought\")\n",
        "\n",
        "order_status=(total_products_ordered, percentage_products_ordered)\n",
        "\n"
      ]
    },
    {
      "cell_type": "markdown",
      "metadata": {
        "id": "NbNa5gg1c4KD"
      },
      "source": [
        "8. Print the order statistics using the following format:\n",
        "\n",
        "\n",
        "   ```\n",
        "   Order Statistics:\n",
        "   Total Products Ordered: <total_products_ordered>\n",
        "   Percentage of Products Ordered: <percentage_ordered>%\n",
        "   ```"
      ]
    },
    {
      "cell_type": "code",
      "execution_count": 28,
      "metadata": {
        "colab": {
          "base_uri": "https://localhost:8080/"
        },
        "id": "tXPKbBxkdAm1",
        "outputId": "e0ff5d22-0af4-4e64-dc3c-d8b4b1ff2c75"
      },
      "outputs": [
        {
          "name": "stdout",
          "output_type": "stream",
          "text": [
            "Order Statistics:\n",
            "Total Products Ordered: 3\n",
            "Percentage of Products Ordered: 13\n"
          ]
        }
      ],
      "source": [
        "print(f\"Order Statistics:\\nTotal Products Ordered: {order_status[0]}\\nPercentage of Products Ordered: {order_status[1]}\")"
      ]
    },
    {
      "cell_type": "markdown",
      "metadata": {
        "id": "C5BMdqVj1rHk"
      },
      "source": [
        "\n",
        "9. Update the inventory by subtracting 1 from the quantity of each product. Modify the `inventory` dictionary accordingly.\n",
        "\n"
      ]
    },
    {
      "cell_type": "code",
      "execution_count": 29,
      "metadata": {
        "colab": {
          "base_uri": "https://localhost:8080/"
        },
        "id": "s4iSiV28GOvj",
        "outputId": "b682864e-9b1c-443f-e502-d264d2b911ac"
      },
      "outputs": [
        {
          "name": "stdout",
          "output_type": "stream",
          "text": [
            "{'t-shirt': 3, 'mug': 5, 'hat': 3, 'book': 5, 'keychain': 4}\n"
          ]
        }
      ],
      "source": [
        "for product in customer_orders:\n",
        "  if product in inventory:\n",
        "    inventory[product] -= 1\n",
        "\n",
        "print(inventory)\n"
      ]
    },
    {
      "cell_type": "markdown",
      "metadata": {
        "id": "b3CpReBuGNK5"
      },
      "source": [
        "10. Print the updated inventory, displaying the quantity of each product on separate lines.\n",
        "\n"
      ]
    },
    {
      "cell_type": "code",
      "execution_count": 36,
      "metadata": {
        "colab": {
          "base_uri": "https://localhost:8080/"
        },
        "id": "utsDP7TJHTBh",
        "outputId": "703a3146-9120-4e03-d627-edff5391dfca"
      },
      "outputs": [
        {
          "name": "stdout",
          "output_type": "stream",
          "text": [
            "t-shirt: 3\n",
            "mug: 5\n",
            "hat: 3\n",
            "book: 5\n",
            "keychain: 4\n"
          ]
        }
      ],
      "source": [
        "for product, quantity in inventory.items():\n",
        "  print(f\"{product}: {quantity}\")\n",
        "\n"
      ]
    }
  ],
  "metadata": {
    "colab": {
      "provenance": []
    },
    "kernelspec": {
      "display_name": "Python 3 (ipykernel)",
      "language": "python",
      "name": "python3"
    },
    "language_info": {
      "codemirror_mode": {
        "name": "ipython",
        "version": 3
      },
      "file_extension": ".py",
      "mimetype": "text/x-python",
      "name": "python",
      "nbconvert_exporter": "python",
      "pygments_lexer": "ipython3",
      "version": "3.12.4"
    }
  },
  "nbformat": 4,
  "nbformat_minor": 0
}
